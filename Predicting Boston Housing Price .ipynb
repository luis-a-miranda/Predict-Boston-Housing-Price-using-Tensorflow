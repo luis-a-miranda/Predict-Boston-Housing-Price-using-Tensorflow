{
 "cells": [
  {
   "cell_type": "markdown",
   "id": "dfe32f27",
   "metadata": {},
   "source": [
    "# Predicting Boston Housing Price\n"
   ]
  },
  {
   "cell_type": "code",
   "execution_count": 1,
   "id": "2b157a7f",
   "metadata": {},
   "outputs": [
    {
     "name": "stdout",
     "output_type": "stream",
     "text": [
      "Libraries imported\n"
     ]
    }
   ],
   "source": [
    "#importing libraries\n",
    "import tensorflow as tf\n",
    "from tensorflow import keras\n",
    "from tensorflow.keras.layers import Conv2D, MaxPooling2D, Dropout, Flatten, Dense\n",
    "\n",
    "import numpy as np\n",
    "import os\n",
    "import sys\n",
    "\n",
    "import matplotlib.pyplot as plt\n",
    "import pandas as pd\n",
    "import seaborn as sns\n",
    "import cv2\n",
    "import IPython\n",
    "from six.moves import urllib\n",
    "\n",
    "print(\"Libraries imported\")"
   ]
  },
  {
   "cell_type": "markdown",
   "id": "fcad0c9b",
   "metadata": {},
   "source": [
    "## Introduction\n",
    "\n",
    "**Goal:** Build a regression model that outputs a single price value. \n",
    "\n",
    "The [dataset](https://storage.googleapis.com/tensorflow/tf-keras-datasets/boston_housing.npz) has 13 features and the our model takes those as input and outputs a single value prediction. The loss function to be used is the mean squared error (MSE)."
   ]
  },
  {
   "cell_type": "code",
   "execution_count": 2,
   "id": "f81a3a49",
   "metadata": {},
   "outputs": [],
   "source": [
    "#loading dataset\n",
    "(train_features, train_labels), (test_features, test_labels) = keras.datasets.boston_housing.load_data();"
   ]
  },
  {
   "cell_type": "markdown",
   "id": "41877b49",
   "metadata": {},
   "source": [
    "First, lets normalize the data calculating the mean and standard deviation from the training set."
   ]
  },
  {
   "cell_type": "code",
   "execution_count": 3,
   "id": "d36682e7",
   "metadata": {},
   "outputs": [],
   "source": [
    "train_mean = np.mean(train_features, axis=0)\n",
    "train_std = np.std(train_features, axis=0)\n",
    "train_features = (train_features - train_mean) / train_std\n"
   ]
  },
  {
   "cell_type": "markdown",
   "id": "6ee1b54c",
   "metadata": {},
   "source": [
    "### Build Model"
   ]
  },
  {
   "cell_type": "code",
   "execution_count": 4,
   "id": "fad4064a",
   "metadata": {},
   "outputs": [
    {
     "name": "stdout",
     "output_type": "stream",
     "text": [
      "Model built\n"
     ]
    }
   ],
   "source": [
    "#building network - 20 neurons in 1 hidden layer and \"mse\" as loss function\n",
    "def build_model():\n",
    "    model = keras.Sequential([\n",
    "        Dense(20, activation=tf.nn.relu, input_shape=[len(train_features[0])]),\n",
    "        Dense(1)\n",
    "    ])\n",
    "\n",
    "    model.compile(optimizer=tf.optimizers.Adam(), loss='mse',metrics=['mae', 'mse'])\n",
    "    return model\n",
    "\n",
    "print(\"Model built\")"
   ]
  },
  {
   "cell_type": "markdown",
   "id": "1c92a8f7",
   "metadata": {},
   "source": [
    "### Training Model"
   ]
  },
  {
   "cell_type": "code",
   "execution_count": 5,
   "id": "16d2faa5",
   "metadata": {},
   "outputs": [
    {
     "name": "stdout",
     "output_type": "stream",
     "text": [
      "Training completed\n"
     ]
    }
   ],
   "source": [
    "model = build_model()\n",
    "\n",
    "history = model.fit(train_features, train_labels, \n",
    "                    epochs=1000, verbose=0, validation_split = 0.1)\n",
    "\n",
    "#hist = pd.DataFrame(history.history)\n",
    "#hist['epoch'] = history.epoch\n",
    "\n",
    "print(\"Training completed\")"
   ]
  },
  {
   "cell_type": "code",
   "execution_count": 6,
   "id": "c4326b6f",
   "metadata": {},
   "outputs": [
    {
     "data": {
      "image/png": "[encoded data removed]",
      "text/plain": [
       "<Figure size 432x288 with 1 Axes>"
      ]
     },
     "metadata": {
      "needs_background": "light"
     },
     "output_type": "display_data"
    }
   ],
   "source": [
    "#plotting loss funciton dynamics - mse vs epoch \n",
    "plt.plot(history.history['mse'], label='Train Error')\n",
    "plt.plot(history.history['val_mse'], label = 'Val Error')\n",
    "plt.ylabel('Mean Square Error')\n",
    "plt.xlabel('Epoch')\n",
    "plt.legend(['train', 'test'], loc='upper right')\n",
    "plt.legend()\n",
    "plt.ylim([0,100])\n",
    "plt.show()\n"
   ]
  },
  {
   "cell_type": "code",
   "execution_count": 7,
   "id": "1aca2697",
   "metadata": {},
   "outputs": [
    {
     "name": "stdout",
     "output_type": "stream",
     "text": [
      "4/4 [==============================] - 0s 0s/step - loss: 17.3641 - mae: 2.6809 - mse: 17.3641\n",
      "Root Mean Square Error on test dataset: 4.167\n"
     ]
    }
   ],
   "source": [
    "#comparing model performance on test dataset\n",
    "test_features_norm = (test_features - train_mean) / train_std\n",
    "mse, _, _ = model.evaluate(test_features_norm, test_labels)\n",
    "rmse = np.sqrt(mse)\n",
    "print('Root Mean Square Error on test dataset: {}'.format(round(rmse, 3)))"
   ]
  },
  {
   "cell_type": "markdown",
   "id": "b3bfbb67",
   "metadata": {},
   "source": [
    "## Conclusion\n",
    "\n",
    "When implementing the model on the test dataset, the model's score is RMSE = 3.848. \n",
    "\n",
    "This result corresponds to a 19th position on the [Kaggle leaderboard](https://www.kaggle.com/c/boston-housing/leaderboard)."
   ]
  }
 ],
 "metadata": {
  "kernelspec": {
   "display_name": "Python 3",
   "language": "python",
   "name": "python3"
  },
  "language_info": {
   "codemirror_mode": {
    "name": "ipython",
    "version": 3
   },
   "file_extension": ".py",
   "mimetype": "text/x-python",
   "name": "python",
   "nbconvert_exporter": "python",
   "pygments_lexer": "ipython3",
   "version": "3.8.8"
  }
 },
 "nbformat": 4,
 "nbformat_minor": 5
}
